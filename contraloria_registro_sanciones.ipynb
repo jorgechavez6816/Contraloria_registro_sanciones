{
 "cells": [
  {
   "cell_type": "code",
   "execution_count": 1,
   "metadata": {},
   "outputs": [],
   "source": [
    "#Descargar información de la página de Contraloria\n",
    "#Archivo de tipo excel xlsx, no se considera primera fila, por no presentar datos de tabla\n",
    "#Página web: https://www.contraloria.gob.pe/wps/wcm/connect/CGRNew/as_contraloria/Participacion_Ciudadana/Conoce_nuestra_facultad_sancionadora/RegistroSancionados/\n",
    "\n",
    "import pandas as pd\n",
    "\n",
    "url = 'http://doc.contraloria.gob.pe/pas/documentos/Registro_sanciones_inscritas_vigentes_Actualizado_31MAY2020.xlsx'\n",
    "df1 = pd.read_excel(url, skiprows=1)  \n",
    "df1.to_excel(\"C:\\\\Users\\\\Intel\\\\Documents\\\\Mis documentos IDEA\\\\Samples\\\\Archivos fuente.ILB\\\\Registro_sanciones.xlsx\") \n"
   ]
  },
  {
   "cell_type": "code",
   "execution_count": null,
   "metadata": {},
   "outputs": [],
   "source": []
  }
 ],
 "metadata": {
  "kernelspec": {
   "display_name": "Python 3",
   "language": "python",
   "name": "python3"
  },
  "language_info": {
   "codemirror_mode": {
    "name": "ipython",
    "version": 3
   },
   "file_extension": ".py",
   "mimetype": "text/x-python",
   "name": "python",
   "nbconvert_exporter": "python",
   "pygments_lexer": "ipython3",
   "version": "3.7.6"
  }
 },
 "nbformat": 4,
 "nbformat_minor": 4
}
